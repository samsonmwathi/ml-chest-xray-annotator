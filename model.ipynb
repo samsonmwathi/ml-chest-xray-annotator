{
 "cells": [
  {
   "cell_type": "code",
   "execution_count": 3,
   "metadata": {},
   "outputs": [],
   "source": [
    "import numpy as np\n",
    "import pandas as pd\n",
    "import tensorflow as tr\n",
    "from tensorflow import keras\n",
    "import os"
   ]
  },
  {
   "cell_type": "markdown",
   "metadata": {},
   "source": [
    "# VALIDATE DATA\n",
    "Ensuring files and Sheets have equal values\n"
   ]
  },
  {
   "cell_type": "code",
   "execution_count": 57,
   "metadata": {},
   "outputs": [
    {
     "name": "stdout",
     "output_type": "stream",
     "text": [
      "Files and folders are equal\n",
      "3000 3000\n",
      "Files and folders are equal\n",
      "15000 15000\n"
     ]
    }
   ],
   "source": [
    "\n",
    "\n",
    "test_files=[]\n",
    "\n",
    "\n",
    "\n",
    "file =pd.read_csv(\"data/test_meta.csv\")\n",
    "#file paths\n",
    "test_dir=\"data/test/\"\n",
    "train_dir=\"data/train/\"\n",
    "#meta record paths\n",
    "meta_train_dir=\"data/train_meta.csv\"\n",
    "meta_test_dir=\"data/test_meta.csv\"\n",
    "#original record paths\n",
    "org_train_dir=\"\"\n",
    "org_test_dir=\"\"\n",
    "\n",
    "def compareFiles(file_path,record_path):\n",
    "    #prepare sheets\n",
    "    data = pd.DataFrame(pd.read_csv(record_path))\n",
    "    # data.head()\n",
    "    names = data['image_id'] \n",
    "    count =0\n",
    "    # compare png files and records in the Excel sheets\n",
    "    with os.scandir(file_path)as files:\n",
    "        for file in files:\n",
    "            if(str(file.name)!=str(names[count])+\".png\"):\n",
    "                print(\"Inconsistent on line \"+str(count)+\" for image \"+str(file.name)+\" and record \"+str(names[count])+\".png\")\n",
    "            count+=1  \n",
    "    # Records v files may not be equal\n",
    "    if(count==len(names)):\n",
    "        print(\"Files and folders are equal\")\n",
    "        print(str(count)+\" \"+str(len(names))) \n",
    "    elif(count<len(names)):\n",
    "        print(\"File missing\")\n",
    "        print(\"Files: \"+str(count)+\" Records: \"+str(len(names)))\n",
    "    elif(count>len(names)):\n",
    "        print(\"Record missing\")\n",
    "        print(\"Files: \"+str(count)+\" Records: \"+str(len(names)))\n",
    "\n",
    "compareFiles(test_dir,meta_test_dir)\n",
    "compareFiles(train_dir,meta_train_dir)"
   ]
  },
  {
   "cell_type": "markdown",
   "metadata": {},
   "source": [
    "# Preprocessing"
   ]
  },
  {
   "cell_type": "code",
   "execution_count": 48,
   "metadata": {},
   "outputs": [
    {
     "data": {
      "text/html": [
       "<div>\n",
       "<style scoped>\n",
       "    .dataframe tbody tr th:only-of-type {\n",
       "        vertical-align: middle;\n",
       "    }\n",
       "\n",
       "    .dataframe tbody tr th {\n",
       "        vertical-align: top;\n",
       "    }\n",
       "\n",
       "    .dataframe thead th {\n",
       "        text-align: right;\n",
       "    }\n",
       "</style>\n",
       "<table border=\"1\" class=\"dataframe\">\n",
       "  <thead>\n",
       "    <tr style=\"text-align: right;\">\n",
       "      <th></th>\n",
       "      <th>image_id</th>\n",
       "      <th>dim0</th>\n",
       "      <th>dim1</th>\n",
       "    </tr>\n",
       "  </thead>\n",
       "  <tbody>\n",
       "    <tr>\n",
       "      <th>0</th>\n",
       "      <td>002a34c58c5b758217ed1f584ccbcfe9</td>\n",
       "      <td>2584</td>\n",
       "      <td>2345</td>\n",
       "    </tr>\n",
       "    <tr>\n",
       "      <th>1</th>\n",
       "      <td>004f33259ee4aef671c2b95d54e4be68</td>\n",
       "      <td>3028</td>\n",
       "      <td>2517</td>\n",
       "    </tr>\n",
       "    <tr>\n",
       "      <th>2</th>\n",
       "      <td>008bdde2af2462e86fd373a445d0f4cd</td>\n",
       "      <td>2880</td>\n",
       "      <td>2304</td>\n",
       "    </tr>\n",
       "    <tr>\n",
       "      <th>3</th>\n",
       "      <td>009bc039326338823ca3aa84381f17f1</td>\n",
       "      <td>2430</td>\n",
       "      <td>1994</td>\n",
       "    </tr>\n",
       "    <tr>\n",
       "      <th>4</th>\n",
       "      <td>00a2145de1886cb9eb88869c85d74080</td>\n",
       "      <td>2408</td>\n",
       "      <td>2136</td>\n",
       "    </tr>\n",
       "  </tbody>\n",
       "</table>\n",
       "</div>"
      ],
      "text/plain": [
       "                           image_id  dim0  dim1\n",
       "0  002a34c58c5b758217ed1f584ccbcfe9  2584  2345\n",
       "1  004f33259ee4aef671c2b95d54e4be68  3028  2517\n",
       "2  008bdde2af2462e86fd373a445d0f4cd  2880  2304\n",
       "3  009bc039326338823ca3aa84381f17f1  2430  1994\n",
       "4  00a2145de1886cb9eb88869c85d74080  2408  2136"
      ]
     },
     "execution_count": 48,
     "metadata": {},
     "output_type": "execute_result"
    }
   ],
   "source": [
    "data.head()\n",
    "test_dir=\"data/test/\"\n",
    "train_dir=\"data/train/\""
   ]
  }
 ],
 "metadata": {
  "kernelspec": {
   "display_name": "Python 3.9.7 64-bit",
   "language": "python",
   "name": "python3"
  },
  "language_info": {
   "codemirror_mode": {
    "name": "ipython",
    "version": 3
   },
   "file_extension": ".py",
   "mimetype": "text/x-python",
   "name": "python",
   "nbconvert_exporter": "python",
   "pygments_lexer": "ipython3",
   "version": "3.9.7"
  },
  "orig_nbformat": 4,
  "vscode": {
   "interpreter": {
    "hash": "2db81d6d48975e5996b52116ef15ef47c8243d7fda6c77f4a458b3cda7942369"
   }
  }
 },
 "nbformat": 4,
 "nbformat_minor": 2
}
